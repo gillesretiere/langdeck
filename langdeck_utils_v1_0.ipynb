{
  "nbformat": 4,
  "nbformat_minor": 0,
  "metadata": {
    "colab": {
      "provenance": [],
      "authorship_tag": "ABX9TyP8Aa1fJUdH7zC7s9XTRVBd",
      "include_colab_link": true
    },
    "kernelspec": {
      "name": "python3",
      "display_name": "Python 3"
    },
    "language_info": {
      "name": "python"
    }
  },
  "cells": [
    {
      "cell_type": "markdown",
      "metadata": {
        "id": "view-in-github",
        "colab_type": "text"
      },
      "source": [
        "<a href=\"https://colab.research.google.com/github/gillesretiere/langdeck/blob/langdeckAB/langdeck_utils_v1_0.ipynb\" target=\"_parent\"><img src=\"https://colab.research.google.com/assets/colab-badge.svg\" alt=\"Open In Colab\"/></a>"
      ]
    },
    {
      "cell_type": "code",
      "execution_count": 1,
      "metadata": {
        "colab": {
          "base_uri": "https://localhost:8080/"
        },
        "collapsed": true,
        "id": "ONA9XEFlX6yE",
        "outputId": "52834d7b-c019-4178-90ff-510df09c3113"
      },
      "outputs": [
        {
          "output_type": "stream",
          "name": "stdout",
          "text": [
            "Collecting pyclean\n",
            "  Downloading pyclean-3.0.0-py3-none-any.whl.metadata (49 kB)\n",
            "\u001b[?25l     \u001b[90m━━━━━━━━━━━━━━━━━━━━━━━━━━━━━━━━━━━━━━━━\u001b[0m \u001b[32m0.0/49.2 kB\u001b[0m \u001b[31m?\u001b[0m eta \u001b[36m-:--:--\u001b[0m\r\u001b[2K     \u001b[90m━━━━━━━━━━━━━━━━━━━━━━━━━━━━━━━━━━━━━━━━\u001b[0m \u001b[32m49.2/49.2 kB\u001b[0m \u001b[31m1.3 MB/s\u001b[0m eta \u001b[36m0:00:00\u001b[0m\n",
            "\u001b[?25hDownloading pyclean-3.0.0-py3-none-any.whl (34 kB)\n",
            "Installing collected packages: pyclean\n",
            "Successfully installed pyclean-3.0.0\n",
            "Requirement already satisfied: gspread in /usr/local/lib/python3.10/dist-packages (6.0.2)\n",
            "Collecting gspread\n",
            "  Downloading gspread-6.1.2-py3-none-any.whl.metadata (11 kB)\n",
            "Requirement already satisfied: google-auth>=1.12.0 in /usr/local/lib/python3.10/dist-packages (from gspread) (2.27.0)\n",
            "Requirement already satisfied: google-auth-oauthlib>=0.4.1 in /usr/local/lib/python3.10/dist-packages (from gspread) (1.2.1)\n",
            "Requirement already satisfied: cachetools<6.0,>=2.0.0 in /usr/local/lib/python3.10/dist-packages (from google-auth>=1.12.0->gspread) (5.4.0)\n",
            "Requirement already satisfied: pyasn1-modules>=0.2.1 in /usr/local/lib/python3.10/dist-packages (from google-auth>=1.12.0->gspread) (0.4.0)\n",
            "Requirement already satisfied: rsa<5,>=3.1.4 in /usr/local/lib/python3.10/dist-packages (from google-auth>=1.12.0->gspread) (4.9)\n",
            "Requirement already satisfied: requests-oauthlib>=0.7.0 in /usr/local/lib/python3.10/dist-packages (from google-auth-oauthlib>=0.4.1->gspread) (1.3.1)\n",
            "Requirement already satisfied: pyasn1<0.7.0,>=0.4.6 in /usr/local/lib/python3.10/dist-packages (from pyasn1-modules>=0.2.1->google-auth>=1.12.0->gspread) (0.6.0)\n",
            "Requirement already satisfied: oauthlib>=3.0.0 in /usr/local/lib/python3.10/dist-packages (from requests-oauthlib>=0.7.0->google-auth-oauthlib>=0.4.1->gspread) (3.2.2)\n",
            "Requirement already satisfied: requests>=2.0.0 in /usr/local/lib/python3.10/dist-packages (from requests-oauthlib>=0.7.0->google-auth-oauthlib>=0.4.1->gspread) (2.31.0)\n",
            "Requirement already satisfied: charset-normalizer<4,>=2 in /usr/local/lib/python3.10/dist-packages (from requests>=2.0.0->requests-oauthlib>=0.7.0->google-auth-oauthlib>=0.4.1->gspread) (3.3.2)\n",
            "Requirement already satisfied: idna<4,>=2.5 in /usr/local/lib/python3.10/dist-packages (from requests>=2.0.0->requests-oauthlib>=0.7.0->google-auth-oauthlib>=0.4.1->gspread) (3.7)\n",
            "Requirement already satisfied: urllib3<3,>=1.21.1 in /usr/local/lib/python3.10/dist-packages (from requests>=2.0.0->requests-oauthlib>=0.7.0->google-auth-oauthlib>=0.4.1->gspread) (2.0.7)\n",
            "Requirement already satisfied: certifi>=2017.4.17 in /usr/local/lib/python3.10/dist-packages (from requests>=2.0.0->requests-oauthlib>=0.7.0->google-auth-oauthlib>=0.4.1->gspread) (2024.7.4)\n",
            "Downloading gspread-6.1.2-py3-none-any.whl (57 kB)\n",
            "\u001b[2K   \u001b[90m━━━━━━━━━━━━━━━━━━━━━━━━━━━━━━━━━━━━━━━━\u001b[0m \u001b[32m57.5/57.5 kB\u001b[0m \u001b[31m2.5 MB/s\u001b[0m eta \u001b[36m0:00:00\u001b[0m\n",
            "\u001b[?25hInstalling collected packages: gspread\n",
            "  Attempting uninstall: gspread\n",
            "    Found existing installation: gspread 6.0.2\n",
            "    Uninstalling gspread-6.0.2:\n",
            "      Successfully uninstalled gspread-6.0.2\n",
            "Successfully installed gspread-6.1.2\n",
            "Found existing installation: gspread-dataframe 3.3.1\n",
            "Uninstalling gspread-dataframe-3.3.1:\n",
            "  Successfully uninstalled gspread-dataframe-3.3.1\n",
            "Collecting gspread-dataframe\n",
            "  Downloading gspread_dataframe-4.0.0-py2.py3-none-any.whl.metadata (4.5 kB)\n",
            "Requirement already satisfied: gspread>=3.0.0 in /usr/local/lib/python3.10/dist-packages (from gspread-dataframe) (6.1.2)\n",
            "Requirement already satisfied: pandas>=0.24.0 in /usr/local/lib/python3.10/dist-packages (from gspread-dataframe) (2.1.4)\n",
            "Requirement already satisfied: six>=1.12.0 in /usr/local/lib/python3.10/dist-packages (from gspread-dataframe) (1.16.0)\n",
            "Requirement already satisfied: google-auth>=1.12.0 in /usr/local/lib/python3.10/dist-packages (from gspread>=3.0.0->gspread-dataframe) (2.27.0)\n",
            "Requirement already satisfied: google-auth-oauthlib>=0.4.1 in /usr/local/lib/python3.10/dist-packages (from gspread>=3.0.0->gspread-dataframe) (1.2.1)\n",
            "Requirement already satisfied: numpy<2,>=1.22.4 in /usr/local/lib/python3.10/dist-packages (from pandas>=0.24.0->gspread-dataframe) (1.26.4)\n",
            "Requirement already satisfied: python-dateutil>=2.8.2 in /usr/local/lib/python3.10/dist-packages (from pandas>=0.24.0->gspread-dataframe) (2.8.2)\n",
            "Requirement already satisfied: pytz>=2020.1 in /usr/local/lib/python3.10/dist-packages (from pandas>=0.24.0->gspread-dataframe) (2024.1)\n",
            "Requirement already satisfied: tzdata>=2022.1 in /usr/local/lib/python3.10/dist-packages (from pandas>=0.24.0->gspread-dataframe) (2024.1)\n",
            "Requirement already satisfied: cachetools<6.0,>=2.0.0 in /usr/local/lib/python3.10/dist-packages (from google-auth>=1.12.0->gspread>=3.0.0->gspread-dataframe) (5.4.0)\n",
            "Requirement already satisfied: pyasn1-modules>=0.2.1 in /usr/local/lib/python3.10/dist-packages (from google-auth>=1.12.0->gspread>=3.0.0->gspread-dataframe) (0.4.0)\n",
            "Requirement already satisfied: rsa<5,>=3.1.4 in /usr/local/lib/python3.10/dist-packages (from google-auth>=1.12.0->gspread>=3.0.0->gspread-dataframe) (4.9)\n",
            "Requirement already satisfied: requests-oauthlib>=0.7.0 in /usr/local/lib/python3.10/dist-packages (from google-auth-oauthlib>=0.4.1->gspread>=3.0.0->gspread-dataframe) (1.3.1)\n",
            "Requirement already satisfied: pyasn1<0.7.0,>=0.4.6 in /usr/local/lib/python3.10/dist-packages (from pyasn1-modules>=0.2.1->google-auth>=1.12.0->gspread>=3.0.0->gspread-dataframe) (0.6.0)\n",
            "Requirement already satisfied: oauthlib>=3.0.0 in /usr/local/lib/python3.10/dist-packages (from requests-oauthlib>=0.7.0->google-auth-oauthlib>=0.4.1->gspread>=3.0.0->gspread-dataframe) (3.2.2)\n",
            "Requirement already satisfied: requests>=2.0.0 in /usr/local/lib/python3.10/dist-packages (from requests-oauthlib>=0.7.0->google-auth-oauthlib>=0.4.1->gspread>=3.0.0->gspread-dataframe) (2.31.0)\n",
            "Requirement already satisfied: charset-normalizer<4,>=2 in /usr/local/lib/python3.10/dist-packages (from requests>=2.0.0->requests-oauthlib>=0.7.0->google-auth-oauthlib>=0.4.1->gspread>=3.0.0->gspread-dataframe) (3.3.2)\n",
            "Requirement already satisfied: idna<4,>=2.5 in /usr/local/lib/python3.10/dist-packages (from requests>=2.0.0->requests-oauthlib>=0.7.0->google-auth-oauthlib>=0.4.1->gspread>=3.0.0->gspread-dataframe) (3.7)\n",
            "Requirement already satisfied: urllib3<3,>=1.21.1 in /usr/local/lib/python3.10/dist-packages (from requests>=2.0.0->requests-oauthlib>=0.7.0->google-auth-oauthlib>=0.4.1->gspread>=3.0.0->gspread-dataframe) (2.0.7)\n",
            "Requirement already satisfied: certifi>=2017.4.17 in /usr/local/lib/python3.10/dist-packages (from requests>=2.0.0->requests-oauthlib>=0.7.0->google-auth-oauthlib>=0.4.1->gspread>=3.0.0->gspread-dataframe) (2024.7.4)\n",
            "Downloading gspread_dataframe-4.0.0-py2.py3-none-any.whl (9.0 kB)\n",
            "Installing collected packages: gspread-dataframe\n",
            "Successfully installed gspread-dataframe-4.0.0\n",
            "Collecting gspread-formatting\n",
            "  Downloading gspread_formatting-1.2.0-py2.py3-none-any.whl.metadata (13 kB)\n",
            "Requirement already satisfied: gspread>=3.0.0 in /usr/local/lib/python3.10/dist-packages (from gspread-formatting) (6.1.2)\n",
            "Requirement already satisfied: google-auth>=1.12.0 in /usr/local/lib/python3.10/dist-packages (from gspread>=3.0.0->gspread-formatting) (2.27.0)\n",
            "Requirement already satisfied: google-auth-oauthlib>=0.4.1 in /usr/local/lib/python3.10/dist-packages (from gspread>=3.0.0->gspread-formatting) (1.2.1)\n",
            "Requirement already satisfied: cachetools<6.0,>=2.0.0 in /usr/local/lib/python3.10/dist-packages (from google-auth>=1.12.0->gspread>=3.0.0->gspread-formatting) (5.4.0)\n",
            "Requirement already satisfied: pyasn1-modules>=0.2.1 in /usr/local/lib/python3.10/dist-packages (from google-auth>=1.12.0->gspread>=3.0.0->gspread-formatting) (0.4.0)\n",
            "Requirement already satisfied: rsa<5,>=3.1.4 in /usr/local/lib/python3.10/dist-packages (from google-auth>=1.12.0->gspread>=3.0.0->gspread-formatting) (4.9)\n",
            "Requirement already satisfied: requests-oauthlib>=0.7.0 in /usr/local/lib/python3.10/dist-packages (from google-auth-oauthlib>=0.4.1->gspread>=3.0.0->gspread-formatting) (1.3.1)\n",
            "Requirement already satisfied: pyasn1<0.7.0,>=0.4.6 in /usr/local/lib/python3.10/dist-packages (from pyasn1-modules>=0.2.1->google-auth>=1.12.0->gspread>=3.0.0->gspread-formatting) (0.6.0)\n",
            "Requirement already satisfied: oauthlib>=3.0.0 in /usr/local/lib/python3.10/dist-packages (from requests-oauthlib>=0.7.0->google-auth-oauthlib>=0.4.1->gspread>=3.0.0->gspread-formatting) (3.2.2)\n",
            "Requirement already satisfied: requests>=2.0.0 in /usr/local/lib/python3.10/dist-packages (from requests-oauthlib>=0.7.0->google-auth-oauthlib>=0.4.1->gspread>=3.0.0->gspread-formatting) (2.31.0)\n",
            "Requirement already satisfied: charset-normalizer<4,>=2 in /usr/local/lib/python3.10/dist-packages (from requests>=2.0.0->requests-oauthlib>=0.7.0->google-auth-oauthlib>=0.4.1->gspread>=3.0.0->gspread-formatting) (3.3.2)\n",
            "Requirement already satisfied: idna<4,>=2.5 in /usr/local/lib/python3.10/dist-packages (from requests>=2.0.0->requests-oauthlib>=0.7.0->google-auth-oauthlib>=0.4.1->gspread>=3.0.0->gspread-formatting) (3.7)\n",
            "Requirement already satisfied: urllib3<3,>=1.21.1 in /usr/local/lib/python3.10/dist-packages (from requests>=2.0.0->requests-oauthlib>=0.7.0->google-auth-oauthlib>=0.4.1->gspread>=3.0.0->gspread-formatting) (2.0.7)\n",
            "Requirement already satisfied: certifi>=2017.4.17 in /usr/local/lib/python3.10/dist-packages (from requests>=2.0.0->requests-oauthlib>=0.7.0->google-auth-oauthlib>=0.4.1->gspread>=3.0.0->gspread-formatting) (2024.7.4)\n",
            "Downloading gspread_formatting-1.2.0-py2.py3-none-any.whl (22 kB)\n",
            "Installing collected packages: gspread-formatting\n",
            "Successfully installed gspread-formatting-1.2.0\n",
            "Mounted at /content/drive\n",
            "/content/drive/MyDrive/langdeck\n",
            "Collecting python-dotenv\n",
            "  Downloading python_dotenv-1.0.1-py3-none-any.whl.metadata (23 kB)\n",
            "Downloading python_dotenv-1.0.1-py3-none-any.whl (19 kB)\n",
            "Installing collected packages: python-dotenv\n",
            "Successfully installed python-dotenv-1.0.1\n",
            "/content/drive/MyDrive/langdeck\n",
            "Cleaning directory .\n",
            "Total 0 files, 0 directories removed.\n",
            "/content/drive/MyDrive/langdeck\n",
            "Collecting wget\n",
            "  Downloading wget-3.2.zip (10 kB)\n",
            "  Preparing metadata (setup.py) ... \u001b[?25l\u001b[?25hdone\n",
            "Building wheels for collected packages: wget\n",
            "  Building wheel for wget (setup.py) ... \u001b[?25l\u001b[?25hdone\n",
            "  Created wheel for wget: filename=wget-3.2-py3-none-any.whl size=9656 sha256=28463c70748dc9a26b82e1c10c507725a0ab725b0736c5aaeb4af8df20cd820d\n",
            "  Stored in directory: /root/.cache/pip/wheels/8b/f1/7f/5c94f0a7a505ca1c81cd1d9208ae2064675d97582078e6c769\n",
            "Successfully built wget\n",
            "Installing collected packages: wget\n",
            "Successfully installed wget-3.2\n",
            "Environnement prêt.\n"
          ]
        }
      ],
      "source": [
        "#!/usr/bin/env python\n",
        "# -*- coding: utf8 -*-\n",
        "import pandas as pd\n",
        "pd.set_option(\"display.width\",1000)\n",
        "pd.options.mode.chained_assignment = None  # default='warn'\n",
        "\n",
        "import numpy as np\n",
        "import requests\n",
        "import json\n",
        "import uuid\n",
        "from datetime import datetime\n",
        "import datetime\n",
        "import re\n",
        "import string\n",
        "import unicodedata\n",
        "import ast\n",
        "\n",
        "!pip3 install pyclean\n",
        "\n",
        "# Gspread  API for Google sheets\n",
        "!pip install gspread --upgrade\n",
        "# fix here => https://stackoverflow.com/questions/71347973/modulenotfounderror-no-module-named-gspread-models\n",
        "!pip uninstall -y gspread-dataframe\n",
        "!pip install gspread-dataframe\n",
        "!pip install gspread-formatting\n",
        "\n",
        "#==== Google Drive\n",
        "from google.colab import drive\n",
        "drive.mount('/content/drive')\n",
        "%cd /content/drive/MyDrive/langdeck/\n",
        "from google.colab import files\n",
        "from google.colab import auth\n",
        "auth.authenticate_user()\n",
        "\n",
        "#====== Google Credentials ================\n",
        "from oauth2client.client import GoogleCredentials\n",
        "# fix here => https://github.com/burnash/gspread/issues/1014\n",
        "from google.auth import default\n",
        "creds, _ = default()\n",
        "\n",
        "# python .env see -> https://saurabh-kumar.com/python-dotenv/\n",
        "!pip install python-dotenv\n",
        "from dotenv import load_dotenv\n",
        "from dotenv import dotenv_values\n",
        "load_dotenv()\n",
        "dotenv_config = dotenv_values(\".env\")\n",
        "app_path = dotenv_config[\"APP_PATH\"]\n",
        "\n",
        "#====== GSpread is a Python API for Google Sheets.================\n",
        "import gspread\n",
        "from gspread_dataframe import get_as_dataframe, set_with_dataframe\n",
        "from gspread_formatting import *\n",
        "gc = gspread.authorize(creds)\n",
        "\n",
        "\n",
        "!export PYTHONIOENCODING=utf8\n",
        "\n",
        "%load_ext autoreload\n",
        "%autoreload 2\n",
        "%cd /content/drive/MyDrive/langdeck/\n",
        "!pyclean .\n",
        "import sys, os\n",
        "\n",
        "# .env\n",
        "from dotenv import load_dotenv\n",
        "from dotenv import dotenv_values\n",
        "%cd /content/drive/MyDrive/langdeck/\n",
        "load_dotenv()\n",
        "dotenv_config = dotenv_values(\".env\")\n",
        "!pip install wget\n",
        "import wget\n",
        "\n",
        "#load_dotenv()\n",
        "#dotenv_config = dotenv_values(\".env\")\n",
        "\n",
        "print (\"Environnement prêt.\")"
      ]
    },
    {
      "cell_type": "code",
      "source": [
        "def load_df_from_gsheet (wb, table_name):\n",
        "  df = pd.DataFrame()\n",
        "  try:\n",
        "    tbl = wb.worksheet(table_name)\n",
        "    data = tbl.get_all_values()\n",
        "    df = pd.DataFrame(data[1:], columns=data[0])\n",
        "  except:\n",
        "      print (\"Table inexistante !\")\n",
        "  return df"
      ],
      "metadata": {
        "id": "XeXzjc_JcPGV"
      },
      "execution_count": 2,
      "outputs": []
    },
    {
      "cell_type": "markdown",
      "source": [
        "# Sélection d'audios selon critères"
      ],
      "metadata": {
        "id": "DyuBSWG9cg2v"
      }
    },
    {
      "cell_type": "code",
      "source": [
        "saynete_id = \"rec7lQw6DtIJP45dn\"\n",
        "language = \"rom\"\n",
        "base_dir = \"/content/drive/MyDrive/langdeck/assets/audio/voix/\"\n",
        "%cd -q $base_dir\n",
        "if not os.path.exists(saynete_id):\n",
        "    print(f\"{saynete_id}not exist\")\n",
        "    os.makedirs(saynete_id)\n",
        "%cd -q $saynete_id\n",
        "\n",
        "if not os.path.exists(language):\n",
        "    print(f\"{language}not exist\")\n",
        "    os.makedirs(language)\n",
        "%cd -q $language\n",
        "!ls"
      ],
      "metadata": {
        "colab": {
          "base_uri": "https://localhost:8080/"
        },
        "id": "DHNRSZWbetEZ",
        "outputId": "108cee81-3536-41d2-ba87-782121558389"
      },
      "execution_count": 3,
      "outputs": [
        {
          "output_type": "stream",
          "name": "stdout",
          "text": [
            "rec6iFAyDnWbY30KJ-rom.mp3  recBcty8NTxqDTVLA-rom.mp3  recPiZ0PPxsx3o1a7-rom.mp3\n",
            "rec6joo0tfQRmIxRL-rom.mp3  recCQGjqF7GSxwniz-rom.mp3  recQ4laan2j2i1Nj1-rom.mp3\n",
            "rec7lQw6DtIJP45dn.csv\t   recDkf8LsIS4i0Gub-rom.mp3  recr9CS9mbC2WVdHm-rom.mp3\n",
            "rec7lQw6DtIJP45dn-rom.csv  recItoPa8L282saqj-rom.mp3  recRB9BNBRTq6HWxX-rom.mp3\n",
            "rec7uqBA4D8chNwQC-rom.mp3  recJ0yx1IhILO3zFD-rom.mp3  recXg83ds1lxtoLjK-rom.mp3\n",
            "rec8g4gRsRejRuBCw-rom.mp3  recjChTVJzZ1UQUJy-rom.mp3  recyKhQuzHGCh3irl-rom.mp3\n",
            "recaMm5sdSHaTQo3h-rom.mp3  recLMXR6RDAgUN0u4-rom.mp3  recZFb4HrRekiQsYs-rom.mp3\n",
            "recBB05hdIHkmPpSp-rom.mp3  recM4NKCmHFimvkkx-rom.mp3\n",
            "recBbiJPWmVqAv0vq-rom.mp3  recNoby7tUZNH0Hne-rom.mp3\n"
          ]
        }
      ]
    },
    {
      "cell_type": "code",
      "source": [
        "\n",
        "db_lgdk_intgr = dotenv_config[\"DB_LGDK_INTGR\"]\n",
        "#--- integration database\n",
        "sheet = db_lgdk_intgr\n",
        "wb_intgr  = gc.open_by_url(sheet)\n",
        "\n",
        "df_tbl_phrases = load_df_from_gsheet (wb_intgr, \"tbl_phrases\")\n",
        "df_tbl_phrases['phrase_related_story_rec_id'] = df_tbl_phrases['phrase_related_story_rec_id'].map(lambda x:ast.literal_eval(x) if x else [])\n",
        "df_tbl_phrases['phrase_related_story_rec_id'] = df_tbl_phrases['phrase_related_story_rec_id'].map(lambda x:''.join (x))\n",
        "df_tbl_phrases[\"phrase_position\"] = df_tbl_phrases[\"phrase_position\"].str.zfill(2)\n",
        "df_tbl_phrases['phrase_words_rec_id'] = df_tbl_phrases['phrase_words_rec_id'].map(lambda x:ast.literal_eval(x) if x else [])\n",
        "#df_tbl_phrases['phrase_words_rec_id'] = df_tbl_phrases['phrase_words_rec_id'].map(lambda x:''.join (x))\n",
        "\n",
        "\n",
        "df_tbl_phrases = df_tbl_phrases.loc[\n",
        "    (df_tbl_phrases[\"phrase_language\"]==language)\n",
        "     & (df_tbl_phrases[\"phrase_related_story_rec_id\"]==saynete_id)\n",
        "     ][[\"phrase_translation_id\",\n",
        "        \"phrase_audio_url\",\n",
        "        \"phrase_position\",\n",
        "        \"phrase\",\n",
        "        \"phrase_translation\",\n",
        "        \"phrase_words_rec_id\",\n",
        "        ]].sort_values(by=['phrase_position'])\n",
        "#"
      ],
      "metadata": {
        "id": "1e2-dhY6cq_L"
      },
      "execution_count": 11,
      "outputs": []
    },
    {
      "cell_type": "markdown",
      "source": [
        "# récupération des dialogues"
      ],
      "metadata": {
        "id": "ZzByf_PPdRTi"
      }
    },
    {
      "cell_type": "code",
      "source": [
        "# français\n",
        "df_tbl_phrases[[\n",
        "        \"phrase_rec_id\",\n",
        "        \"phrase_position\",\n",
        "        \"phrase\",\n",
        "        ]].to_csv(saynete_id+'.csv', index=False)"
      ],
      "metadata": {
        "id": "Y5Ky9d7u-pp7"
      },
      "execution_count": null,
      "outputs": []
    },
    {
      "cell_type": "code",
      "source": [
        "# traduit\n",
        "df_tbl_phrases[[\n",
        "        \"phrase_translation_id\",\n",
        "        \"phrase_position\",\n",
        "        \"phrase_translation\",\n",
        "        ]].to_csv(saynete_id+'-'+language+'.csv', index=False)"
      ],
      "metadata": {
        "id": "HmutpTtccStM"
      },
      "execution_count": null,
      "outputs": []
    },
    {
      "cell_type": "markdown",
      "source": [
        "# récupération des audios\n"
      ],
      "metadata": {
        "id": "2NKgySpcdQBf"
      }
    },
    {
      "cell_type": "code",
      "source": [
        "df_tbl_phrases[[\n",
        "        \"phrase_translation_id\",\n",
        "        \"phrase_audio_url\",\n",
        "        ]].apply(\n",
        "         lambda x:wget.download(\n",
        "             x.iloc[1],\n",
        "             x.iloc[0] + \".mp3\"),\n",
        "         axis=1)"
      ],
      "metadata": {
        "id": "fy3yJ7TddJ9O",
        "colab": {
          "base_uri": "https://localhost:8080/",
          "height": 796
        },
        "outputId": "e68e7e69-93b0-4066-ed96-1f74e9adc2f8",
        "collapsed": true
      },
      "execution_count": null,
      "outputs": [
        {
          "output_type": "execute_result",
          "data": {
            "text/plain": [
              "273    recRB9BNBRTq6HWxX-rom.mp3\n",
              "274    recZFb4HrRekiQsYs-rom.mp3\n",
              "275    recQ4laan2j2i1Nj1-rom.mp3\n",
              "276    recItoPa8L282saqj-rom.mp3\n",
              "277    rec6joo0tfQRmIxRL-rom.mp3\n",
              "278    recBcty8NTxqDTVLA-rom.mp3\n",
              "279    recCQGjqF7GSxwniz-rom.mp3\n",
              "280    rec6iFAyDnWbY30KJ-rom.mp3\n",
              "281    recBB05hdIHkmPpSp-rom.mp3\n",
              "282    rec7uqBA4D8chNwQC-rom.mp3\n",
              "283    recLMXR6RDAgUN0u4-rom.mp3\n",
              "284    recyKhQuzHGCh3irl-rom.mp3\n",
              "285    recjChTVJzZ1UQUJy-rom.mp3\n",
              "286    recr9CS9mbC2WVdHm-rom.mp3\n",
              "287    recM4NKCmHFimvkkx-rom.mp3\n",
              "288    recaMm5sdSHaTQo3h-rom.mp3\n",
              "289    recDkf8LsIS4i0Gub-rom.mp3\n",
              "290    recJ0yx1IhILO3zFD-rom.mp3\n",
              "291    recPiZ0PPxsx3o1a7-rom.mp3\n",
              "292    recXg83ds1lxtoLjK-rom.mp3\n",
              "293    recNoby7tUZNH0Hne-rom.mp3\n",
              "294    recBbiJPWmVqAv0vq-rom.mp3\n",
              "295    rec8g4gRsRejRuBCw-rom.mp3\n",
              "dtype: object"
            ],
            "text/html": [
              "<table border=\"1\" class=\"dataframe\">\n",
              "  <thead>\n",
              "    <tr style=\"text-align: right;\">\n",
              "      <th></th>\n",
              "      <th>0</th>\n",
              "    </tr>\n",
              "  </thead>\n",
              "  <tbody>\n",
              "    <tr>\n",
              "      <th>273</th>\n",
              "      <td>recRB9BNBRTq6HWxX-rom.mp3</td>\n",
              "    </tr>\n",
              "    <tr>\n",
              "      <th>274</th>\n",
              "      <td>recZFb4HrRekiQsYs-rom.mp3</td>\n",
              "    </tr>\n",
              "    <tr>\n",
              "      <th>275</th>\n",
              "      <td>recQ4laan2j2i1Nj1-rom.mp3</td>\n",
              "    </tr>\n",
              "    <tr>\n",
              "      <th>276</th>\n",
              "      <td>recItoPa8L282saqj-rom.mp3</td>\n",
              "    </tr>\n",
              "    <tr>\n",
              "      <th>277</th>\n",
              "      <td>rec6joo0tfQRmIxRL-rom.mp3</td>\n",
              "    </tr>\n",
              "    <tr>\n",
              "      <th>278</th>\n",
              "      <td>recBcty8NTxqDTVLA-rom.mp3</td>\n",
              "    </tr>\n",
              "    <tr>\n",
              "      <th>279</th>\n",
              "      <td>recCQGjqF7GSxwniz-rom.mp3</td>\n",
              "    </tr>\n",
              "    <tr>\n",
              "      <th>280</th>\n",
              "      <td>rec6iFAyDnWbY30KJ-rom.mp3</td>\n",
              "    </tr>\n",
              "    <tr>\n",
              "      <th>281</th>\n",
              "      <td>recBB05hdIHkmPpSp-rom.mp3</td>\n",
              "    </tr>\n",
              "    <tr>\n",
              "      <th>282</th>\n",
              "      <td>rec7uqBA4D8chNwQC-rom.mp3</td>\n",
              "    </tr>\n",
              "    <tr>\n",
              "      <th>283</th>\n",
              "      <td>recLMXR6RDAgUN0u4-rom.mp3</td>\n",
              "    </tr>\n",
              "    <tr>\n",
              "      <th>284</th>\n",
              "      <td>recyKhQuzHGCh3irl-rom.mp3</td>\n",
              "    </tr>\n",
              "    <tr>\n",
              "      <th>285</th>\n",
              "      <td>recjChTVJzZ1UQUJy-rom.mp3</td>\n",
              "    </tr>\n",
              "    <tr>\n",
              "      <th>286</th>\n",
              "      <td>recr9CS9mbC2WVdHm-rom.mp3</td>\n",
              "    </tr>\n",
              "    <tr>\n",
              "      <th>287</th>\n",
              "      <td>recM4NKCmHFimvkkx-rom.mp3</td>\n",
              "    </tr>\n",
              "    <tr>\n",
              "      <th>288</th>\n",
              "      <td>recaMm5sdSHaTQo3h-rom.mp3</td>\n",
              "    </tr>\n",
              "    <tr>\n",
              "      <th>289</th>\n",
              "      <td>recDkf8LsIS4i0Gub-rom.mp3</td>\n",
              "    </tr>\n",
              "    <tr>\n",
              "      <th>290</th>\n",
              "      <td>recJ0yx1IhILO3zFD-rom.mp3</td>\n",
              "    </tr>\n",
              "    <tr>\n",
              "      <th>291</th>\n",
              "      <td>recPiZ0PPxsx3o1a7-rom.mp3</td>\n",
              "    </tr>\n",
              "    <tr>\n",
              "      <th>292</th>\n",
              "      <td>recXg83ds1lxtoLjK-rom.mp3</td>\n",
              "    </tr>\n",
              "    <tr>\n",
              "      <th>293</th>\n",
              "      <td>recNoby7tUZNH0Hne-rom.mp3</td>\n",
              "    </tr>\n",
              "    <tr>\n",
              "      <th>294</th>\n",
              "      <td>recBbiJPWmVqAv0vq-rom.mp3</td>\n",
              "    </tr>\n",
              "    <tr>\n",
              "      <th>295</th>\n",
              "      <td>rec8g4gRsRejRuBCw-rom.mp3</td>\n",
              "    </tr>\n",
              "  </tbody>\n",
              "</table><br><label><b>dtype:</b> object</label>"
            ]
          },
          "metadata": {},
          "execution_count": 21
        }
      ]
    },
    {
      "cell_type": "markdown",
      "source": [
        "# Récupération des mots-clés"
      ],
      "metadata": {
        "id": "yznJij9w1Jgv"
      }
    },
    {
      "cell_type": "code",
      "source": [
        "if not os.path.exists(\"keywords\"):\n",
        "    print(\"keywords not exist\")\n",
        "    os.makedirs(\"keywords\")\n",
        "%cd -q keywords\n",
        "!ls"
      ],
      "metadata": {
        "colab": {
          "base_uri": "https://localhost:8080/"
        },
        "id": "-WONsamg7gFo",
        "outputId": "44cb42dc-0547-4a78-b1d8-2032aca3699d"
      },
      "execution_count": 34,
      "outputs": [
        {
          "output_type": "stream",
          "name": "stdout",
          "text": [
            "keywords not exist\n"
          ]
        }
      ]
    },
    {
      "cell_type": "code",
      "source": [
        "df_tbl_words = load_df_from_gsheet (wb_intgr, \"tbl_words\")"
      ],
      "metadata": {
        "id": "Q2x09iyphgy3"
      },
      "execution_count": 35,
      "outputs": []
    },
    {
      "cell_type": "code",
      "source": [
        "vk_word_keys = list(df_tbl_phrases[\"phrase_words_rec_id\"].explode())"
      ],
      "metadata": {
        "id": "C-XDTsNb25q3"
      },
      "execution_count": 36,
      "outputs": []
    },
    {
      "cell_type": "code",
      "source": [
        "df_tbl_words = df_tbl_words.loc[(df_tbl_words[\"word_language\"]==language)\n",
        "     & (df_tbl_words[\"word_rec_id\"].isin(vk_word_keys))\n",
        "     ][[\n",
        "         \"word_rec_id\",\n",
        "         \"word\",\n",
        "         \"word_translation_id\",\n",
        "         \"word_translation\",\n",
        "         \"word_audio_url\",\n",
        "         \"word_notes\",\n",
        "         \"word_notes_translation\",\n",
        "     ]]"
      ],
      "metadata": {
        "id": "Jz9bIhE12G55"
      },
      "execution_count": 37,
      "outputs": []
    },
    {
      "cell_type": "markdown",
      "source": [
        "# Récupération du catalogue des mots-clés"
      ],
      "metadata": {
        "id": "1HNGUC3p8FEQ"
      }
    },
    {
      "cell_type": "code",
      "source": [
        "# français\n",
        "df_tbl_words[[\n",
        "        \"word_rec_id\",\n",
        "        \"word\",\n",
        "        \"word_notes\",\n",
        "        ]].to_csv(saynete_id+'-_keywords.csv', index=False)"
      ],
      "metadata": {
        "id": "gyBa0e1Z5qjC"
      },
      "execution_count": 38,
      "outputs": []
    },
    {
      "cell_type": "code",
      "source": [
        "# traduit\n",
        "df_tbl_words[[\n",
        "        \"word_translation_id\",\n",
        "        \"word_translation\",\n",
        "        \"word_notes_translation\",\n",
        "        ]].to_csv(saynete_id+'-'+language+'-_keywords.csv', index=False)"
      ],
      "metadata": {
        "id": "8C84qZGj14sZ"
      },
      "execution_count": 39,
      "outputs": []
    },
    {
      "cell_type": "markdown",
      "source": [
        "# Récupération des audios"
      ],
      "metadata": {
        "id": "Cm50E0U18Be1"
      }
    },
    {
      "cell_type": "code",
      "source": [
        "df_tbl_words[[\n",
        "        \"word_translation_id\",\n",
        "        \"word_audio_url\",\n",
        "        ]].apply(\n",
        "         lambda x:wget.download(\n",
        "             x.iloc[1],\n",
        "             x.iloc[0] + \".mp3\"),\n",
        "         axis=1)"
      ],
      "metadata": {
        "colab": {
          "base_uri": "https://localhost:8080/",
          "height": 331
        },
        "id": "yOAOuEKl7Akm",
        "outputId": "809a8da1-7d7b-4bf4-ba57-939b237aaf76"
      },
      "execution_count": 40,
      "outputs": [
        {
          "output_type": "execute_result",
          "data": {
            "text/plain": [
              "86     recmhUC9Wr0zn4i0o-rom.mp3\n",
              "87     recSq54lkSPY5m1co-rom.mp3\n",
              "90     recFYIwEPxr1ffzB6-rom.mp3\n",
              "91     recfQfsC7kP8CvKFD-rom.mp3\n",
              "92     recdqvaTPhYuzEG1r-rom.mp3\n",
              "94     rec7h485P0KpcTReA-rom.mp3\n",
              "100    recPVdsyMtJvFOetC-rom.mp3\n",
              "101    recP4UChKgISC2aJS-rom.mp3\n",
              "dtype: object"
            ],
            "text/html": [
              "<table border=\"1\" class=\"dataframe\">\n",
              "  <thead>\n",
              "    <tr style=\"text-align: right;\">\n",
              "      <th></th>\n",
              "      <th>0</th>\n",
              "    </tr>\n",
              "  </thead>\n",
              "  <tbody>\n",
              "    <tr>\n",
              "      <th>86</th>\n",
              "      <td>recmhUC9Wr0zn4i0o-rom.mp3</td>\n",
              "    </tr>\n",
              "    <tr>\n",
              "      <th>87</th>\n",
              "      <td>recSq54lkSPY5m1co-rom.mp3</td>\n",
              "    </tr>\n",
              "    <tr>\n",
              "      <th>90</th>\n",
              "      <td>recFYIwEPxr1ffzB6-rom.mp3</td>\n",
              "    </tr>\n",
              "    <tr>\n",
              "      <th>91</th>\n",
              "      <td>recfQfsC7kP8CvKFD-rom.mp3</td>\n",
              "    </tr>\n",
              "    <tr>\n",
              "      <th>92</th>\n",
              "      <td>recdqvaTPhYuzEG1r-rom.mp3</td>\n",
              "    </tr>\n",
              "    <tr>\n",
              "      <th>94</th>\n",
              "      <td>rec7h485P0KpcTReA-rom.mp3</td>\n",
              "    </tr>\n",
              "    <tr>\n",
              "      <th>100</th>\n",
              "      <td>recPVdsyMtJvFOetC-rom.mp3</td>\n",
              "    </tr>\n",
              "    <tr>\n",
              "      <th>101</th>\n",
              "      <td>recP4UChKgISC2aJS-rom.mp3</td>\n",
              "    </tr>\n",
              "  </tbody>\n",
              "</table><br><label><b>dtype:</b> object</label>"
            ]
          },
          "metadata": {},
          "execution_count": 40
        }
      ]
    },
    {
      "cell_type": "code",
      "source": [],
      "metadata": {
        "id": "Gs5L8lpx8a19"
      },
      "execution_count": null,
      "outputs": []
    }
  ]
}